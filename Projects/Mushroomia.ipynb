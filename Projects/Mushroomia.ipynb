{
 "cells": [
  {
   "cell_type": "markdown",
   "metadata": {
    "id": "Q1JAc1ddb2-4"
   },
   "source": [
    "You are exploring the wilderness of _Mushroomia_, a land populated by a plethora of diverse fauna and flora. In particular, _Mushroomia_ is known for its unparalleled variety in mushrooms. However, not all the mushrooms in _Mushroomia_ are edible. As you make your way through _Mushroomia_, you would like to know which mushrooms are edible, in order to forage for supplies for your daily mushroom soup.\n",
    "\n",
    "You have access to:\n",
    "* _Shroomster Pro Max <sup>TM</sup>_ - a state of the art data collection device, developed by _Mushroomia_, that allows you to collect various data points about any mushroom you encounter in the wild\n",
    "* _The National Archives on Mushrooms_ - a dataset collected over the years by the government of _Mushroomia_\n",
    "\n",
    "To address this problem, you decide to use the skills you learnt in CSM148 and train machine learning models on the _The National Archives on Mushrooms_ in order to use your _Shroomster Pro Max <sup>TM</sup>_ to determine whether the mushrooms you encounter on your adventure can be added to your daily mushroom soup.  \n",
    "\n",
    "This project will be more unstructured than the previous two projects in order to allow you to experience how data science problems are solved in practice. There are two parts to this project: a Jupyter Notebook with your code (where you explore, visualize, process your data and train machine learning models) and a report (where you explain the various choices you make in your implementation and analyze the final performance of your models)."
   ]
  },
  {
   "cell_type": "markdown",
   "metadata": {
    "id": "wdxrlZxt5_BG"
   },
   "source": [
    "# 1. Loading and Viewing Data\n",
    "\n"
   ]
  },
  {
   "cell_type": "code",
   "execution_count": 1,
   "metadata": {
    "id": "osL4LWUad0I5"
   },
   "outputs": [
    {
     "data": {
      "text/html": [
       "<div>\n",
       "<style scoped>\n",
       "    .dataframe tbody tr th:only-of-type {\n",
       "        vertical-align: middle;\n",
       "    }\n",
       "\n",
       "    .dataframe tbody tr th {\n",
       "        vertical-align: top;\n",
       "    }\n",
       "\n",
       "    .dataframe thead th {\n",
       "        text-align: right;\n",
       "    }\n",
       "</style>\n",
       "<table border=\"1\" class=\"dataframe\">\n",
       "  <thead>\n",
       "    <tr style=\"text-align: right;\">\n",
       "      <th></th>\n",
       "      <th>class</th>\n",
       "      <th>cap-diameter</th>\n",
       "      <th>cap-shape</th>\n",
       "      <th>cap-surface</th>\n",
       "      <th>cap-color</th>\n",
       "      <th>does-bruise-or-bleed</th>\n",
       "      <th>gill-attachment</th>\n",
       "      <th>gill-spacing</th>\n",
       "      <th>gill-color</th>\n",
       "      <th>stem-height</th>\n",
       "      <th>...</th>\n",
       "      <th>stem-root</th>\n",
       "      <th>stem-surface</th>\n",
       "      <th>stem-color</th>\n",
       "      <th>veil-type</th>\n",
       "      <th>veil-color</th>\n",
       "      <th>has-ring</th>\n",
       "      <th>ring-type</th>\n",
       "      <th>spore-print-color</th>\n",
       "      <th>habitat</th>\n",
       "      <th>season</th>\n",
       "    </tr>\n",
       "  </thead>\n",
       "  <tbody>\n",
       "    <tr>\n",
       "      <th>0</th>\n",
       "      <td>p</td>\n",
       "      <td>2.50</td>\n",
       "      <td>b</td>\n",
       "      <td>NaN</td>\n",
       "      <td>k</td>\n",
       "      <td>f</td>\n",
       "      <td>a</td>\n",
       "      <td>NaN</td>\n",
       "      <td>k</td>\n",
       "      <td>8.42</td>\n",
       "      <td>...</td>\n",
       "      <td>NaN</td>\n",
       "      <td>NaN</td>\n",
       "      <td>g</td>\n",
       "      <td>NaN</td>\n",
       "      <td>w</td>\n",
       "      <td>f</td>\n",
       "      <td>f</td>\n",
       "      <td>k</td>\n",
       "      <td>g</td>\n",
       "      <td>u</td>\n",
       "    </tr>\n",
       "    <tr>\n",
       "      <th>1</th>\n",
       "      <td>p</td>\n",
       "      <td>3.07</td>\n",
       "      <td>b</td>\n",
       "      <td>NaN</td>\n",
       "      <td>k</td>\n",
       "      <td>f</td>\n",
       "      <td>a</td>\n",
       "      <td>NaN</td>\n",
       "      <td>n</td>\n",
       "      <td>7.24</td>\n",
       "      <td>...</td>\n",
       "      <td>NaN</td>\n",
       "      <td>NaN</td>\n",
       "      <td>n</td>\n",
       "      <td>NaN</td>\n",
       "      <td>w</td>\n",
       "      <td>f</td>\n",
       "      <td>f</td>\n",
       "      <td>k</td>\n",
       "      <td>g</td>\n",
       "      <td>a</td>\n",
       "    </tr>\n",
       "    <tr>\n",
       "      <th>2</th>\n",
       "      <td>p</td>\n",
       "      <td>3.30</td>\n",
       "      <td>b</td>\n",
       "      <td>NaN</td>\n",
       "      <td>n</td>\n",
       "      <td>f</td>\n",
       "      <td>a</td>\n",
       "      <td>NaN</td>\n",
       "      <td>n</td>\n",
       "      <td>10.22</td>\n",
       "      <td>...</td>\n",
       "      <td>NaN</td>\n",
       "      <td>NaN</td>\n",
       "      <td>n</td>\n",
       "      <td>NaN</td>\n",
       "      <td>w</td>\n",
       "      <td>f</td>\n",
       "      <td>f</td>\n",
       "      <td>k</td>\n",
       "      <td>g</td>\n",
       "      <td>u</td>\n",
       "    </tr>\n",
       "    <tr>\n",
       "      <th>3</th>\n",
       "      <td>p</td>\n",
       "      <td>3.49</td>\n",
       "      <td>b</td>\n",
       "      <td>NaN</td>\n",
       "      <td>k</td>\n",
       "      <td>f</td>\n",
       "      <td>a</td>\n",
       "      <td>NaN</td>\n",
       "      <td>k</td>\n",
       "      <td>11.00</td>\n",
       "      <td>...</td>\n",
       "      <td>NaN</td>\n",
       "      <td>NaN</td>\n",
       "      <td>n</td>\n",
       "      <td>NaN</td>\n",
       "      <td>w</td>\n",
       "      <td>f</td>\n",
       "      <td>f</td>\n",
       "      <td>k</td>\n",
       "      <td>g</td>\n",
       "      <td>a</td>\n",
       "    </tr>\n",
       "    <tr>\n",
       "      <th>4</th>\n",
       "      <td>p</td>\n",
       "      <td>2.79</td>\n",
       "      <td>b</td>\n",
       "      <td>NaN</td>\n",
       "      <td>n</td>\n",
       "      <td>f</td>\n",
       "      <td>a</td>\n",
       "      <td>NaN</td>\n",
       "      <td>n</td>\n",
       "      <td>6.97</td>\n",
       "      <td>...</td>\n",
       "      <td>NaN</td>\n",
       "      <td>NaN</td>\n",
       "      <td>g</td>\n",
       "      <td>NaN</td>\n",
       "      <td>w</td>\n",
       "      <td>f</td>\n",
       "      <td>f</td>\n",
       "      <td>k</td>\n",
       "      <td>g</td>\n",
       "      <td>u</td>\n",
       "    </tr>\n",
       "  </tbody>\n",
       "</table>\n",
       "<p>5 rows × 21 columns</p>\n",
       "</div>"
      ],
      "text/plain": [
       "  class  cap-diameter cap-shape cap-surface cap-color does-bruise-or-bleed  \\\n",
       "0     p          2.50         b         NaN         k                    f   \n",
       "1     p          3.07         b         NaN         k                    f   \n",
       "2     p          3.30         b         NaN         n                    f   \n",
       "3     p          3.49         b         NaN         k                    f   \n",
       "4     p          2.79         b         NaN         n                    f   \n",
       "\n",
       "  gill-attachment gill-spacing gill-color  stem-height  ...  stem-root  \\\n",
       "0               a          NaN          k         8.42  ...        NaN   \n",
       "1               a          NaN          n         7.24  ...        NaN   \n",
       "2               a          NaN          n        10.22  ...        NaN   \n",
       "3               a          NaN          k        11.00  ...        NaN   \n",
       "4               a          NaN          n         6.97  ...        NaN   \n",
       "\n",
       "  stem-surface stem-color veil-type  veil-color has-ring ring-type  \\\n",
       "0          NaN          g       NaN           w        f         f   \n",
       "1          NaN          n       NaN           w        f         f   \n",
       "2          NaN          n       NaN           w        f         f   \n",
       "3          NaN          n       NaN           w        f         f   \n",
       "4          NaN          g       NaN           w        f         f   \n",
       "\n",
       "  spore-print-color habitat season  \n",
       "0                 k       g      u  \n",
       "1                 k       g      a  \n",
       "2                 k       g      u  \n",
       "3                 k       g      a  \n",
       "4                 k       g      u  \n",
       "\n",
       "[5 rows x 21 columns]"
      ]
     },
     "execution_count": 1,
     "metadata": {},
     "output_type": "execute_result"
    }
   ],
   "source": [
    "import pandas as pd\n",
    "# pd.read_csv(...)\n",
    "# note delimitter for this file is semi-colon (;) not comma\n",
    "\n",
    "mushroom_train = pd.read_csv(\"mushroom_train.csv\", sep = \";\")\n",
    "mushroom_test = pd.read_csv(\"mushroom_test.csv\", sep = \";\")\n",
    "\n",
    "mushroom_train.head()\n",
    "mushroom_test.head()"
   ]
  },
  {
   "cell_type": "markdown",
   "metadata": {
    "id": "ih8bE0ke6B5H"
   },
   "source": [
    "# 2. Splitting Data into Features and Labels"
   ]
  },
  {
   "cell_type": "code",
   "execution_count": 2,
   "metadata": {
    "id": "nUqdm_e0mFic"
   },
   "outputs": [],
   "source": [
    "# Only keep features that shroomster can detect!\n",
    "train_data = mushroom_train.drop(\"class\", axis = 1)\n",
    "train_labels = mushroom_train[\"class\"].copy()\n",
    "\n",
    "test_data = mushroom_test.drop(\"class\", axis = 1)\n",
    "test_labels = mushroom_test[\"class\"].copy()"
   ]
  },
  {
   "cell_type": "code",
   "execution_count": 3,
   "metadata": {},
   "outputs": [
    {
     "name": "stdout",
     "output_type": "stream",
     "text": [
      "(50213, 20) (50213,)\n",
      "(10856, 20) (10856,)\n"
     ]
    }
   ],
   "source": [
    "print (train_data.shape, train_labels.shape)\n",
    "print (test_data.shape, test_labels.shape)"
   ]
  },
  {
   "cell_type": "markdown",
   "metadata": {
    "id": "F0lxPkOv6N5z"
   },
   "source": [
    "# 3. Data Exploration and Visualization"
   ]
  },
  {
   "cell_type": "code",
   "execution_count": 4,
   "metadata": {
    "id": "ElKT93Lsd-w2"
   },
   "outputs": [
    {
     "data": {
      "text/plain": [
       "<AxesSubplot:xlabel='season', ylabel='count'>"
      ]
     },
     "execution_count": 4,
     "metadata": {},
     "output_type": "execute_result"
    },
    {
     "data": {
      "image/png": "[encoded data removed]",
      "text/plain": [
       "<Figure size 432x288 with 1 Axes>"
      ]
     },
     "metadata": {
      "needs_background": "light"
     },
     "output_type": "display_data"
    }
   ],
   "source": [
    "# Hint: We have done this in both project 1 & 2\n",
    "\n",
    "%matplotlib inline\n",
    "import matplotlib.pyplot as plt #plotting package\n",
    "import seaborn as sns\n",
    "\n",
    "# plot of seasons grouped by habitat\n",
    "sns.countplot(data = train_data, x = \"season\", hue = \"habitat\")"
   ]
  },
  {
   "cell_type": "code",
   "execution_count": 5,
   "metadata": {},
   "outputs": [
    {
     "data": {
      "text/plain": [
       "<AxesSubplot:xlabel='cap-shape', ylabel='count'>"
      ]
     },
     "execution_count": 5,
     "metadata": {},
     "output_type": "execute_result"
    },
    {
     "data": {
      "image/png": "[encoded data removed]",
      "text/plain": [
       "<Figure size 432x288 with 1 Axes>"
      ]
     },
     "metadata": {
      "needs_background": "light"
     },
     "output_type": "display_data"
    }
   ],
   "source": [
    "# distribution of cap shape grouped by cap surface\n",
    "sns.countplot(data = train_data, x = \"cap-shape\", hue = \"cap-surface\")"
   ]
  },
  {
   "cell_type": "code",
   "execution_count": 6,
   "metadata": {},
   "outputs": [
    {
     "data": {
      "text/plain": [
       "<AxesSubplot:xlabel='veil-color', ylabel='count'>"
      ]
     },
     "execution_count": 6,
     "metadata": {},
     "output_type": "execute_result"
    },
    {
     "data": {
      "image/png": "[encoded data removed]",
      "text/plain": [
       "<Figure size 432x288 with 1 Axes>"
      ]
     },
     "metadata": {
      "needs_background": "light"
     },
     "output_type": "display_data"
    }
   ],
   "source": [
    "# distribution of veils\n",
    "sns.countplot(data = train_data, x = \"veil-color\")"
   ]
  },
  {
   "cell_type": "code",
   "execution_count": 7,
   "metadata": {},
   "outputs": [
    {
     "data": {
      "text/plain": [
       "<AxesSubplot:xlabel='stem-surface', ylabel='count'>"
      ]
     },
     "execution_count": 7,
     "metadata": {},
     "output_type": "execute_result"
    },
    {
     "data": {
      "image/png": "[encoded data removed]",
      "text/plain": [
       "<Figure size 432x288 with 1 Axes>"
      ]
     },
     "metadata": {
      "needs_background": "light"
     },
     "output_type": "display_data"
    }
   ],
   "source": [
    "# stem-surface by cap-surface\n",
    "sns.countplot(data = train_data, x = \"stem-surface\", hue = \"cap-surface\")"
   ]
  },
  {
   "cell_type": "code",
   "execution_count": 8,
   "metadata": {},
   "outputs": [
    {
     "data": {
      "text/plain": [
       "<AxesSubplot:xlabel='ring-type', ylabel='count'>"
      ]
     },
     "execution_count": 8,
     "metadata": {},
     "output_type": "execute_result"
    },
    {
     "data": {
      "image/png": "[encoded data removed]",
      "text/plain": [
       "<Figure size 432x288 with 1 Axes>"
      ]
     },
     "metadata": {
      "needs_background": "light"
     },
     "output_type": "display_data"
    }
   ],
   "source": [
    "# distribution of veils\n",
    "sns.countplot(data = train_data, x = \"ring-type\", hue = \"has-ring\")"
   ]
  },
  {
   "cell_type": "code",
   "execution_count": 9,
   "metadata": {},
   "outputs": [
    {
     "data": {
      "text/plain": [
       "<AxesSubplot:>"
      ]
     },
     "execution_count": 9,
     "metadata": {},
     "output_type": "execute_result"
    },
    {
     "data": {
      "image/png": "[encoded data removed]",
      "text/plain": [
       "<Figure size 432x288 with 2 Axes>"
      ]
     },
     "metadata": {
      "needs_background": "light"
     },
     "output_type": "display_data"
    }
   ],
   "source": [
    "# correlation matrix\n",
    "sns.heatmap(train_data.corr(), annot = True, annot_kws = {\"size\":10})"
   ]
  },
  {
   "cell_type": "code",
   "execution_count": 10,
   "metadata": {},
   "outputs": [
    {
     "data": {
      "image/png": "[encoded data removed]",
      "text/plain": [
       "<Figure size 432x288 with 1 Axes>"
      ]
     },
     "metadata": {
      "needs_background": "light"
     },
     "output_type": "display_data"
    },
    {
     "data": {
      "text/plain": [
       "p    29242\n",
       "e    20971\n",
       "Name: class, dtype: int64"
      ]
     },
     "execution_count": 10,
     "metadata": {},
     "output_type": "execute_result"
    }
   ],
   "source": [
    "# check if label classes are balanced\n",
    "train_labels.hist()\n",
    "plt.show()\n",
    "train_labels.value_counts()"
   ]
  },
  {
   "cell_type": "code",
   "execution_count": 11,
   "metadata": {},
   "outputs": [
    {
     "data": {
      "text/plain": [
       "cap-diameter                0\n",
       "cap-shape                   0\n",
       "cap-surface             12298\n",
       "cap-color                   0\n",
       "does-bruise-or-bleed        0\n",
       "gill-attachment          7766\n",
       "gill-spacing            19149\n",
       "gill-color                  0\n",
       "stem-height                 0\n",
       "stem-width                  0\n",
       "stem-root               42800\n",
       "stem-surface            30301\n",
       "stem-color                  0\n",
       "veil-type               47036\n",
       "veil-color              43916\n",
       "has-ring                    0\n",
       "ring-type                1765\n",
       "spore-print-color       45681\n",
       "habitat                     0\n",
       "season                      0\n",
       "dtype: int64"
      ]
     },
     "execution_count": 11,
     "metadata": {},
     "output_type": "execute_result"
    }
   ],
   "source": [
    "# check null values\n",
    "train_data.isnull().sum()"
   ]
  },
  {
   "cell_type": "markdown",
   "metadata": {
    "id": "zwsD1gQm6WA1"
   },
   "source": [
    "# 4. Data Processing"
   ]
  },
  {
   "cell_type": "code",
   "execution_count": 12,
   "metadata": {
    "id": "ZgJ6qgOijCxa"
   },
   "outputs": [],
   "source": [
    "# Hints:\n",
    "# 1. Convert the \"class\" column into labels: 'p' (poisonous) -> 0,  'e' (edible) -> 1 \n",
    "# 2. You can drop columns if you see fit\n",
    "# 3. See any imcomplete data? We learned how to deal with them in project 1.\n",
    "\n",
    "from sklearn.pipeline import Pipeline\n",
    "from sklearn.preprocessing import StandardScaler, OneHotEncoder\n",
    "from sklearn.compose import ColumnTransformer, make_column_transformer\n",
    "\n",
    "# convert 'class' into labels\n",
    "new_y_train = pd.DataFrame(train_labels)\n",
    "new_y_train['class'] = new_y_train['class'].apply(lambda x: ['p', 'e'].index(x))\n",
    "new_y_train = new_y_train['class']\n",
    "\n",
    "new_y_test = pd.DataFrame(test_labels)\n",
    "new_y_test['class'] = new_y_test['class'].apply(lambda x: ['p', 'e'].index(x))\n",
    "new_y_test = new_y_test['class']"
   ]
  },
  {
   "cell_type": "code",
   "execution_count": 13,
   "metadata": {},
   "outputs": [],
   "source": [
    "# drop features with high percentage of NA's\n",
    "train_data = train_data.drop(['stem-root', 'veil-type', 'veil-color', 'spore-print-color', 'stem-surface'], axis = 1)\n",
    "test_data = test_data.drop(['stem-root', 'veil-type', 'veil-color', 'spore-print-color', 'stem-surface'], axis = 1)"
   ]
  },
  {
   "cell_type": "code",
   "execution_count": 14,
   "metadata": {},
   "outputs": [],
   "source": [
    "# for categorical features, replace na values with mode values\n",
    "\n",
    "## train data\n",
    "mode_cap_surface = train_data[\"cap-surface\"].mode().iloc[0]\n",
    "mode_gill_attachment = train_data[\"gill-attachment\"].mode().iloc[0]\n",
    "mode_gill_spacing = train_data[\"gill-spacing\"].mode().iloc[0]\n",
    "mode_ring_type = train_data[\"ring-type\"].mode().iloc[0]\n",
    "\n",
    "train_data[\"cap-surface\"].fillna(mode_cap_surface, inplace=True)\n",
    "train_data[\"gill-attachment\"].fillna(mode_gill_attachment, inplace=True)\n",
    "train_data[\"gill-spacing\"].fillna(mode_gill_spacing, inplace=True)\n",
    "train_data[\"ring-type\"].fillna(mode_ring_type, inplace=True)\n",
    "\n",
    "## test data\n",
    "mode_cap_surface = test_data[\"cap-surface\"].mode().iloc[0]\n",
    "mode_gill_attachment = test_data[\"gill-attachment\"].mode().iloc[0]\n",
    "mode_gill_spacing = test_data[\"gill-spacing\"].mode().iloc[0]\n",
    "mode_ring_type = test_data[\"ring-type\"].mode().iloc[0]\n",
    "\n",
    "test_data[\"cap-surface\"].fillna(mode_cap_surface, inplace=True)\n",
    "test_data[\"gill-attachment\"].fillna(mode_gill_attachment, inplace=True)\n",
    "test_data[\"gill-spacing\"].fillna(mode_gill_spacing, inplace=True)\n",
    "test_data[\"ring-type\"].fillna(mode_ring_type, inplace=True)"
   ]
  },
  {
   "cell_type": "markdown",
   "metadata": {
    "id": "ZXY_GJc6ASh3"
   },
   "source": [
    "# 5. Data Augmentation (Creating at least 2 New Features)"
   ]
  },
  {
   "cell_type": "code",
   "execution_count": 15,
   "metadata": {
    "id": "1_FXGszIemzz"
   },
   "outputs": [],
   "source": [
    "# Similar to Project 1 and 2. \n",
    "\n",
    "import numpy as np\n",
    "\n",
    "train_data[\"stem-volume\"] = (((train_data[\"stem-width\"]*0.1)/2)*np.pi)*train_data[\"stem-height\"]\n",
    "train_data[\"cap-area\"] = np.pi*(train_data[\"cap-diameter\"]/2)**2\n",
    "\n",
    "test_data[\"stem-volume\"] = (((test_data[\"stem-width\"]*0.1)/2)*np.pi)*test_data[\"stem-height\"]\n",
    "test_data[\"cap-area\"] = np.pi*(test_data[\"cap-diameter\"]/2)**2"
   ]
  },
  {
   "cell_type": "code",
   "execution_count": 16,
   "metadata": {},
   "outputs": [],
   "source": [
    "# Pipeline\n",
    "\n",
    "# remove categorical features from the numeric values\n",
    "train_data_num = train_data.drop(['cap-shape', 'cap-surface', 'cap-color', 'does-bruise-or-bleed',\n",
    "                                  'gill-attachment', 'gill-spacing', 'gill-color', \n",
    "                                  'stem-color', 'has-ring', 'ring-type', 'habitat', 'season'], axis = 1)\n",
    "\n",
    "num_pipeline = Pipeline([\n",
    "    ('std_scaler', StandardScaler())\n",
    "    ])\n",
    "\n",
    "numerical_features = list(train_data_num)\n",
    "categorical_features = ['cap-shape', 'cap-surface', 'cap-color', 'does-bruise-or-bleed',\n",
    "                        'gill-attachment', 'gill-spacing', 'gill-color', \n",
    "                        'stem-color', 'has-ring', 'ring-type', 'habitat', 'season']\n",
    "\n",
    "full_pipeline = ColumnTransformer([\n",
    "        (\"num\", num_pipeline, numerical_features),\n",
    "        (\"cat\", OneHotEncoder(categories='auto', handle_unknown='ignore'), categorical_features),\n",
    "    ])\n",
    "\n",
    "prepared_train = full_pipeline.fit_transform(train_data).toarray()\n",
    "prepared_test = full_pipeline.transform(test_data).toarray()"
   ]
  },
  {
   "cell_type": "markdown",
   "metadata": {
    "id": "h-J_WJ-06ZJN"
   },
   "source": [
    "# 6.  Logistic Regression & Statistical Hypothesis Testing"
   ]
  },
  {
   "cell_type": "code",
   "execution_count": 17,
   "metadata": {
    "id": "8gZxu5_xeIpA"
   },
   "outputs": [
    {
     "data": {
      "text/plain": [
       "LogisticRegression(solver='liblinear')"
      ]
     },
     "execution_count": 17,
     "metadata": {},
     "output_type": "execute_result"
    }
   ],
   "source": [
    "from sklearn import metrics\n",
    "from sklearn.linear_model import LogisticRegression\n",
    "\n",
    "log_reg = LogisticRegression(solver='liblinear')\n",
    "log_reg.fit(prepared_train, new_y_train)"
   ]
  },
  {
   "cell_type": "code",
   "execution_count": 18,
   "metadata": {},
   "outputs": [
    {
     "name": "stdout",
     "output_type": "stream",
     "text": [
      "Accuracy:    0.482775\n"
     ]
    }
   ],
   "source": [
    "#Generate predictions and score them!\n",
    "predicted = log_reg.predict(prepared_test)\n",
    "score = log_reg.predict_proba(prepared_test)[:,1]\n",
    "\n",
    "print(\"%-12s %f\" % ('Accuracy:', metrics.accuracy_score(new_y_test, predicted)))"
   ]
  },
  {
   "cell_type": "code",
   "execution_count": 19,
   "metadata": {},
   "outputs": [
    {
     "name": "stdout",
     "output_type": "stream",
     "text": [
      "                 Generalized Linear Model Regression Results                  \n",
      "==============================================================================\n",
      "Dep. Variable:                  class   No. Observations:                50213\n",
      "Model:                            GLM   Df Residuals:                    50207\n",
      "Model Family:                Binomial   Df Model:                            5\n",
      "Link Function:                  logit   Scale:                          1.0000\n",
      "Method:                          IRLS   Log-Likelihood:                -33331.\n",
      "Date:                Fri, 03 Mar 2023   Deviance:                       66661.\n",
      "Time:                        16:39:43   Pearson chi2:                 5.02e+04\n",
      "No. Iterations:                     4                                         \n",
      "Covariance Type:            nonrobust                                         \n",
      "==============================================================================\n",
      "                 coef    std err          z      P>|z|      [0.025      0.975]\n",
      "------------------------------------------------------------------------------\n",
      "const         -0.3396      0.009    -36.893      0.000      -0.358      -0.322\n",
      "x1             0.6767      0.030     22.729      0.000       0.618       0.735\n",
      "x2            -0.0154      0.026     -0.599      0.549      -0.066       0.035\n",
      "x3            -0.0756      0.029     -2.601      0.009      -0.133      -0.019\n",
      "x4            -0.0585      0.039     -1.514      0.130      -0.134       0.017\n",
      "x5            -0.2706      0.022    -12.293      0.000      -0.314      -0.227\n",
      "==============================================================================\n"
     ]
    }
   ],
   "source": [
    "import statsmodels.api as sm\n",
    "\n",
    "# subset containing only numerical features\n",
    "prepared_train_subset = pd.DataFrame(prepared_train).iloc[:, 0:5]\n",
    "prepared_train_subset = prepared_train_subset.to_numpy()\n",
    "\n",
    "sm_x = sm.add_constant(prepared_train_subset)\n",
    "model = sm.GLM(new_y_train, sm_x, family=sm.families.Binomial())\n",
    "\n",
    "results = model.fit()\n",
    "print(results.summary())"
   ]
  },
  {
   "cell_type": "markdown",
   "metadata": {
    "id": "_gTzEm8uVvbw"
   },
   "source": [
    "# 7. Dimensionality Reduction using PCA\n",
    "\n"
   ]
  },
  {
   "cell_type": "code",
   "execution_count": 20,
   "metadata": {
    "id": "bwunhLAEVvCM"
   },
   "outputs": [],
   "source": [
    "# PCA: https://scikit-learn.org/stable/modules/generated/sklearn.decomposition.PCA.html\n",
    "\n",
    "from sklearn import decomposition\n",
    "\n",
    "pca = decomposition.PCA(n_components=0.95)\n",
    "\n",
    "# Now we run the fit operation to convert our \n",
    "# data to a PCA transformmed data\n",
    "pca_train = pca.fit_transform(prepared_train)"
   ]
  },
  {
   "cell_type": "code",
   "execution_count": 21,
   "metadata": {},
   "outputs": [
    {
     "name": "stdout",
     "output_type": "stream",
     "text": [
      "Accuracy:    0.470155\n",
      "Precision:   0.792092\n",
      "Recall:      0.100000\n",
      "F1 Score:    0.177581\n"
     ]
    }
   ],
   "source": [
    "# Logistic Regression\n",
    "\n",
    "log_reg = LogisticRegression(solver='liblinear')\n",
    "log_reg.fit(pca_train, new_y_train)\n",
    "\n",
    "# PCA our Test data\n",
    "pca_test = pca.transform(prepared_test)\n",
    "predicted = log_reg.predict(pca_test)\n",
    "\n",
    "print(\"%-12s %f\" % ('Accuracy:', metrics.accuracy_score(new_y_test, predicted)))\n",
    "print(\"%-12s %f\" % ('Precision:', metrics.precision_score(new_y_test, predicted)))\n",
    "print(\"%-12s %f\" % ('Recall:', metrics.recall_score(new_y_test, predicted)))\n",
    "print(\"%-12s %f\" % ('F1 Score:', metrics.f1_score(new_y_test, predicted)))"
   ]
  },
  {
   "cell_type": "markdown",
   "metadata": {
    "id": "HazoMF_f7P_c"
   },
   "source": [
    "# 8. Experiment with any 2 other models (Non-Ensemble)"
   ]
  },
  {
   "cell_type": "code",
   "execution_count": 22,
   "metadata": {},
   "outputs": [],
   "source": [
    "# print results function\n",
    "\n",
    "def print_results(model):\n",
    "    predicted = model.predict(prepared_test)\n",
    "\n",
    "    print(\"%-12s %f\" % ('Accuracy:', metrics.accuracy_score(new_y_test, predicted)))\n",
    "    print(\"%-12s %f\" % ('Precision:', metrics.precision_score(new_y_test, predicted)))\n",
    "    print(\"%-12s %f\" % ('Recall:', metrics.recall_score(new_y_test, predicted)))\n",
    "    print(\"%-12s %f\" % ('F1 Score:', metrics.f1_score(new_y_test, predicted)))"
   ]
  },
  {
   "cell_type": "code",
   "execution_count": 23,
   "metadata": {},
   "outputs": [
    {
     "name": "stdout",
     "output_type": "stream",
     "text": [
      "Accuracy:    0.538596\n",
      "Precision:   0.702666\n",
      "Recall:      0.335266\n",
      "F1 Score:    0.453941\n"
     ]
    }
   ],
   "source": [
    "# Models: https://scikit-learn.org/stable/supervised_learning.html\n",
    "\n",
    "# KNN\n",
    "from sklearn.neighbors import KNeighborsClassifier\n",
    "\n",
    "knn = KNeighborsClassifier()\n",
    "knn.fit(prepared_train, new_y_train)\n",
    "\n",
    "print_results(knn)"
   ]
  },
  {
   "cell_type": "code",
   "execution_count": 24,
   "metadata": {},
   "outputs": [
    {
     "name": "stdout",
     "output_type": "stream",
     "text": [
      "Accuracy:    0.541912\n",
      "Precision:   0.675660\n",
      "Recall:      0.383092\n",
      "F1 Score:    0.488953\n"
     ]
    }
   ],
   "source": [
    "# Decision Trees\n",
    "from sklearn import tree\n",
    "\n",
    "decision_tree = tree.DecisionTreeClassifier(random_state = 1)\n",
    "decision_tree.fit(prepared_train, new_y_train)\n",
    "\n",
    "print_results(decision_tree)"
   ]
  },
  {
   "cell_type": "markdown",
   "metadata": {
    "id": "1h6JUUZY7Ak2"
   },
   "source": [
    "# 9. Experiment with 1 Ensemble Method"
   ]
  },
  {
   "cell_type": "code",
   "execution_count": 25,
   "metadata": {
    "id": "cXXtF42pfSQa"
   },
   "outputs": [
    {
     "name": "stdout",
     "output_type": "stream",
     "text": [
      "Accuracy:    0.591470\n",
      "Precision:   0.943085\n",
      "Recall:      0.304187\n",
      "F1 Score:    0.460002\n"
     ]
    }
   ],
   "source": [
    "# Ensemble Methods: https://scikit-learn.org/stable/modules/ensemble.html\n",
    "\n",
    "# Random Forest\n",
    "\n",
    "from sklearn.ensemble import RandomForestClassifier\n",
    "\n",
    "forest = RandomForestClassifier(random_state = 1)\n",
    "forest.fit(prepared_train, new_y_train)\n",
    "\n",
    "print_results(forest)"
   ]
  },
  {
   "cell_type": "markdown",
   "metadata": {
    "id": "sOdYyK4cfS1v"
   },
   "source": [
    "# 10. Cross-Validation & Hyperparameter Tuning for All 3 Models"
   ]
  },
  {
   "cell_type": "code",
   "execution_count": 26,
   "metadata": {
    "id": "SIvLK-rEfBzf"
   },
   "outputs": [],
   "source": [
    "# Cross-Validation: https://scikit-learn.org/stable/modules/cross_validation.html\n",
    "# Hyperparameter Tuning: https://scikit-learn.org/stable/modules/grid_search.html\n",
    "\n",
    "from sklearn.model_selection import KFold\n",
    "from sklearn import model_selection\n",
    "from sklearn.model_selection import GridSearchCV"
   ]
  },
  {
   "cell_type": "code",
   "execution_count": 27,
   "metadata": {},
   "outputs": [
    {
     "name": "stdout",
     "output_type": "stream",
     "text": [
      "Best hyperparameters:  {'n_neighbors': 50}\n",
      "Best score:  0.46822795220940316\n"
     ]
    }
   ],
   "source": [
    "# KNN\n",
    "from sklearn.model_selection import cross_val_score\n",
    "\n",
    "params = {'n_neighbors': [5, 10, 20, 30, 50]}\n",
    "knn = KNeighborsClassifier()\n",
    "\n",
    "grid_search = GridSearchCV(knn, param_grid = params, cv=5, scoring='accuracy')\n",
    "grid_search.fit(prepared_train, new_y_train)\n",
    "\n",
    "# Print the best hyperparameters and their corresponding score\n",
    "print(\"Best hyperparameters: \", grid_search.best_params_)\n",
    "print(\"Best score: \", grid_search.best_score_)"
   ]
  },
  {
   "cell_type": "code",
   "execution_count": 28,
   "metadata": {},
   "outputs": [
    {
     "name": "stdout",
     "output_type": "stream",
     "text": [
      "Best hyperparameters:  {'criterion': 'entropy', 'max_depth': 4, 'max_features': 'log2', 'min_samples_leaf': 1, 'min_samples_split': 2}\n",
      "Best score:  0.5936522207643956\n"
     ]
    }
   ],
   "source": [
    "# Decision Tree\n",
    "\n",
    "param_dict = {\n",
    "    'max_depth': [2, 3, 4, 5],\n",
    "    'min_samples_split': [2, 3, 4],\n",
    "    'min_samples_leaf': [1, 2, 3],\n",
    "    'max_features': [None, 'sqrt', 'log2'],\n",
    "    'criterion': ['gini', 'entropy']\n",
    "}\n",
    "decision_tree = tree.DecisionTreeClassifier(random_state = 1)\n",
    "\n",
    "\n",
    "grid = GridSearchCV(decision_tree,\n",
    "                   param_grid=param_dict,\n",
    "                   cv=5\n",
    "                   )\n",
    "grid.fit(prepared_train, new_y_train)\n",
    "\n",
    "# Print the best hyperparameters and their corresponding score\n",
    "print(\"Best hyperparameters: \", grid.best_params_)\n",
    "print(\"Best score: \", grid.best_score_)"
   ]
  },
  {
   "cell_type": "code",
   "execution_count": 31,
   "metadata": {},
   "outputs": [
    {
     "name": "stdout",
     "output_type": "stream",
     "text": [
      "Best hyperparameters:  {'n_estimators': 200}\n",
      "Best score:  0.5406759208009806\n"
     ]
    }
   ],
   "source": [
    "# Random Forest\n",
    "\n",
    "grid = {\n",
    "    'n_estimators': [100, 200, 300]\n",
    "}\n",
    "forest = RandomForestClassifier(random_state = 1)\n",
    "\n",
    "forest_cv = GridSearchCV(estimator = forest, param_grid = grid, cv = 3)\n",
    "forest_cv.fit(prepared_train, new_y_train)\n",
    "\n",
    "print(\"Best hyperparameters: \", forest_cv.best_params_)\n",
    "print(\"Best score: \", forest_cv.best_score_)"
   ]
  },
  {
   "cell_type": "markdown",
   "metadata": {
    "id": "OTnFJgrd7VPw"
   },
   "source": [
    "# 11. Report Final Results "
   ]
  },
  {
   "cell_type": "code",
   "execution_count": 33,
   "metadata": {
    "id": "XcyjfhjWfh9r"
   },
   "outputs": [
    {
     "name": "stdout",
     "output_type": "stream",
     "text": [
      "Accuracy:    0.551400\n",
      "Precision:   0.723930\n",
      "Recall:      0.348792\n",
      "F1 Score:    0.470767\n"
     ]
    }
   ],
   "source": [
    "# KNN\n",
    "\n",
    "knn = KNeighborsClassifier(n_neighbors=50)\n",
    "knn.fit(prepared_train, new_y_train)\n",
    "\n",
    "print_results(knn)"
   ]
  },
  {
   "cell_type": "code",
   "execution_count": 34,
   "metadata": {},
   "outputs": [
    {
     "name": "stdout",
     "output_type": "stream",
     "text": [
      "Accuracy:    0.558032\n",
      "Precision:   1.000000\n",
      "Recall:      0.227375\n",
      "F1 Score:    0.370506\n"
     ]
    }
   ],
   "source": [
    "# Decision Tree\n",
    "\n",
    "decision_tree = tree.DecisionTreeClassifier(criterion = 'entropy', max_depth = 4, \n",
    "                                            max_features = 'log2', min_samples_leaf = 1, \n",
    "                                            min_samples_split = 2, random_state = 1)\n",
    "decision_tree.fit(prepared_train, new_y_train)\n",
    "\n",
    "print_results(decision_tree)"
   ]
  },
  {
   "cell_type": "code",
   "execution_count": 35,
   "metadata": {},
   "outputs": [
    {
     "name": "stdout",
     "output_type": "stream",
     "text": [
      "Accuracy:    0.590457\n",
      "Precision:   0.929825\n",
      "Recall:      0.307246\n",
      "F1 Score:    0.461874\n"
     ]
    }
   ],
   "source": [
    "# Random Forest\n",
    "\n",
    "from sklearn.ensemble import RandomForestClassifier\n",
    "\n",
    "forest = RandomForestClassifier(n_estimators = 200, random_state = 1)\n",
    "forest.fit(prepared_train, new_y_train)\n",
    "\n",
    "print_results(forest)"
   ]
  }
 ],
 "metadata": {
  "colab": {
   "provenance": []
  },
  "kernelspec": {
   "display_name": "Python 3 (ipykernel)",
   "language": "python",
   "name": "python3"
  },
  "language_info": {
   "codemirror_mode": {
    "name": "ipython",
    "version": 3
   },
   "file_extension": ".py",
   "mimetype": "text/x-python",
   "name": "python",
   "nbconvert_exporter": "python",
   "pygments_lexer": "ipython3",
   "version": "3.9.7"
  }
 },
 "nbformat": 4,
 "nbformat_minor": 1
}
